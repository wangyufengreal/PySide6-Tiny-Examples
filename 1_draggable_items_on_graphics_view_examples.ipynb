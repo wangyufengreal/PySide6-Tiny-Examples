{
 "cells": [
  {
   "cell_type": "code",
   "execution_count": 3,
   "metadata": {},
   "outputs": [],
   "source": [
    "# ////////////////////////////////////////////////////////////\n",
    "###### 在任意数量的可拖拽 item 之间添加任意数量的动态连线 ######\n",
    "# /////////////////////////////////////////////////////////\n",
    "\n",
    "from PySide6.QtWidgets import QApplication, QGraphicsView\n",
    "\n",
    "from src.graphics_view.draggable_item import DragablePixmapItem\n",
    "from src.graphics_view.scene import CustomGraphicsScene\n",
    "from src.graphics_view.line import LineManager, StraightLineItem, LineTrackWay\n",
    "\n",
    "try:\n",
    "  app = QApplication([])\n",
    "  \n",
    "  scene = CustomGraphicsScene(0, 0, 600, 600)\n",
    "  \n",
    "  view = QGraphicsView()\n",
    "  view.setScene(scene)\n",
    "\n",
    "  line_manager = LineManager()\n",
    "  \n",
    "  # 生成几个 item\n",
    "  items = [DragablePixmapItem(img_path='assets/nn.png', x=50+(500)/7*i, y=130, line_manager=line_manager) for i in range(7)]\n",
    "\n",
    "  for item in items:\n",
    "    scene.addItem(item)\n",
    "\n",
    "    # 添加子菜单\n",
    "    item.add_menu_action('吃饭', lambda x: print('Eat'))\n",
    "    item.add_menu_action('睡觉', lambda x: print('Sleep'))\n",
    "    item.add_menu_action('看电视', lambda x: print('Watching TV'))\n",
    "\n",
    "  # 在每个 item 间添加连线\n",
    "  for item_s in items:\n",
    "    for item_e in items:\n",
    "      line_manager.add_line(scene, StraightLineItem(LineTrackWay.TWO_ITEM, start_item=item_s, end_item=item_e))\n",
    "\n",
    "  view.show()\n",
    "\n",
    "  app.exec()\n",
    "\n",
    "except Exception as e:\n",
    "  print(str(e))\n",
    "  import traceback\n",
    "  print(traceback.format_exc())\n",
    "\n",
    "finally:\n",
    "  app.shutdown()"
   ]
  }
 ],
 "metadata": {
  "kernelspec": {
   "display_name": "env",
   "language": "python",
   "name": "python3"
  },
  "language_info": {
   "codemirror_mode": {
    "name": "ipython",
    "version": 3
   },
   "file_extension": ".py",
   "mimetype": "text/x-python",
   "name": "python",
   "nbconvert_exporter": "python",
   "pygments_lexer": "ipython3",
   "version": "3.9.13"
  }
 },
 "nbformat": 4,
 "nbformat_minor": 2
}
